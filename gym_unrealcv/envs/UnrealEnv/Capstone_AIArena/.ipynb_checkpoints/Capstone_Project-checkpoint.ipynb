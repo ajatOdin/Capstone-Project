{
 "cells": [
  {
   "cell_type": "code",
   "execution_count": 1,
   "metadata": {},
   "outputs": [],
   "source": [
    "from unrealcv.automation import UE4Binary\n",
    "from unrealcv.util import read_png, read_npy\n",
    "from unrealcv import client\n",
    "\n",
    "import matplotlib.pyplot as plt\n",
    "\n",
    "\n",
    "plt.ion()\n",
    "%matplotlib inline\n",
    "\n",
    "import os\n"
   ]
  },
  {
   "cell_type": "code",
   "execution_count": null,
   "metadata": {},
   "outputs": [
    {
     "name": "stdout",
     "output_type": "stream",
     "text": [
      "C:\\Users\\Nordictiger\\Documents\\GitHub\\gym-unrealcv\\gym_unrealcv\\envs\\UnrealEnv\\Capstone_AIArena\\WindowsNoEditor\\Capstone_AIArena\\Binaries\\Win64\\Capstone_AIArena.exe\n",
      "Start windows binary C:\\Users\\Nordictiger\\Documents\\GitHub\\gym-unrealcv\\gym_unrealcv\\envs\\UnrealEnv\\Capstone_AIArena\\WindowsNoEditor\\Capstone_AIArena\\Binaries\\Win64\\Capstone_AIArena.exe\n",
      "C:\\Users\\Nordictiger\\Documents\\Github\\gym-unrealcv\\example\\ddpg\n"
     ]
    }
   ],
   "source": []
  },
  {
   "cell_type": "code",
   "execution_count": null,
   "metadata": {},
   "outputs": [],
   "source": [
    "binary_path = (os.getcwd() + '\\WindowsNoEditor\\Capstone_AIArena\\Binaries\\Win64\\Capstone_AIArena.exe')\n",
    "print(binary_path)\n",
    "if os.path.isfile(binary_path):\n",
    "    # Use .exe file for windows.\n",
    "    binary = UE4Binary(binary_path) # UE4Binary can support exe, linux and mac binary\n",
    "    binary.start()\n",
    "else:\n",
    "    print(\"Can not find binary file %s \\nWorking directory is %s\" % (binary_path, os.path.abspath('.')))\n",
    "'''\n",
    "def show_current_frame():\n",
    "    res = client.request('vget /camera/0/lit png'); img = read_png(res); plt.imshow(img)\n",
    "'''"
   ]
  },
  {
   "cell_type": "code",
   "execution_count": null,
   "metadata": {},
   "outputs": [],
   "source": [
    "os.chdir('C:/Users/Nordictiger/Documents/Github/gym-unrealcv/example/ddpg')\n",
    "print(os.getcwd())\n",
    "! python run.py -e Capstone_AIArena-v0"
   ]
  }
 ],
 "metadata": {
  "kernelspec": {
   "display_name": "Python 3",
   "language": "python",
   "name": "python3"
  },
  "language_info": {
   "codemirror_mode": {
    "name": "ipython",
    "version": 3
   },
   "file_extension": ".py",
   "mimetype": "text/x-python",
   "name": "python",
   "nbconvert_exporter": "python",
   "pygments_lexer": "ipython3",
   "version": "3.6.4"
  }
 },
 "nbformat": 4,
 "nbformat_minor": 2
}
